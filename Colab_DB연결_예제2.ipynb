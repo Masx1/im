{
  "cells": [
    {
      "cell_type": "code",
      "execution_count": 1,
      "metadata": {
        "colab": {
          "base_uri": "https://localhost:8080/"
        },
        "id": "c9fx_QxvWJj7",
        "outputId": "98311248-40e3-40f9-d8f5-c11245a0d25f"
      },
      "outputs": [
        {
          "name": "stdout",
          "output_type": "stream",
          "text": [
            "Collecting oracledb\n",
            "  Downloading oracledb-2.2.0-cp310-cp310-manylinux_2_17_x86_64.manylinux2014_x86_64.whl (11.1 MB)\n",
            "\u001b[2K     \u001b[90m━━━━━━━━━━━━━━━━━━━━━━━━━━━━━━━━━━━━━━━━\u001b[0m \u001b[32m11.1/11.1 MB\u001b[0m \u001b[31m29.6 MB/s\u001b[0m eta \u001b[36m0:00:00\u001b[0m\n",
            "\u001b[?25hRequirement already satisfied: cryptography>=3.2.1 in /usr/local/lib/python3.10/dist-packages (from oracledb) (42.0.7)\n",
            "Requirement already satisfied: cffi>=1.12 in /usr/local/lib/python3.10/dist-packages (from cryptography>=3.2.1->oracledb) (1.16.0)\n",
            "Requirement already satisfied: pycparser in /usr/local/lib/python3.10/dist-packages (from cffi>=1.12->cryptography>=3.2.1->oracledb) (2.22)\n",
            "Installing collected packages: oracledb\n",
            "Successfully installed oracledb-2.2.0\n"
          ]
        }
      ],
      "source": [
        "#pip install oracledb"
      ]
    },
    {
      "cell_type": "code",
      "execution_count": 4,
      "metadata": {
        "colab": {
          "base_uri": "https://localhost:8080/"
        },
        "id": "kWdp2d0aW0K7",
        "outputId": "2a4279c2-9c72-43ae-d944-47d7dca47d0c"
      },
      "outputs": [
        {
          "name": "stdout",
          "output_type": "stream",
          "text": [
            "Connected to the database\n",
            "\n",
            "CLOTHCATEGORY Table:\n",
            "(1, 'Top', 'T-Shirt')\n",
            "(2, 'Bottom', 'Jeans')\n",
            "(3, 'Accessory', 'Hat')\n",
            "\n",
            "CLOTHDETAILTABLE Table:\n",
            "(1001, 1, 'Red', 'M', 20, datetime.datetime(2024, 5, 1, 0, 0), 'Warehouse A', 'basic_tshirt_red_m.jpg')\n",
            "(1001, 1, 'Blue', 'L', 30, datetime.datetime(2024, 5, 1, 0, 0), 'Warehouse B', 'basic_tshirt_blue_l.jpg')\n",
            "(1002, 2, 'Dark Blue', '32', 10, datetime.datetime(2024, 5, 1, 0, 0), 'Warehouse C', 'blue_jeans_darkblue_32.jpg')\n",
            "\n",
            "CLOTHTABLE Table:\n",
            "(1001, 1, 'Basic T-Shirt', 'basic_tshirt.jpg', 15000, 100)\n",
            "(1002, 2, 'Blue Jeans', 'blue_jeans.jpg', 45000, 50)\n",
            "(1003, 3, 'Baseball Cap', 'baseball_cap.jpg', 20000, 75)\n",
            "\n",
            "USERS Table:\n",
            "(4, 'Male', 20, 'ryon', 'password135', 'ryon', 'ryon@exmaple.com', 1010345673, 'Muan, Korea')\n",
            "(1, 'Male', 25, 'john_doe', 'password123', 'John Doe', 'john.doe@example.com', 1012345678, 'Seoul, Korea')\n",
            "(2, 'Female', 30, 'jane_doe', 'password456', 'Jane Doe', 'jane.doe@example.com', 1087654321, 'Busan, Korea')\n",
            "(3, 'Male', 35, 'bob_smith', 'password789', 'Bob Smith', 'bob.smith@example.com', 1011223344, 'Incheon, Korea')\n"
          ]
        }
      ],
      "source": [
        "import getpass\n",
        "import oracledb\n",
        "\n",
        "# 데이터베이스 연결 정보\n",
        "un = '?????'\n",
        "pw = '??????'\n",
        "cs = '?????????'\n",
        "\n",
        "# 데이터베이스 연결 설정\n",
        "connection_config = {\n",
        "    'user': un,\n",
        "    'password': pw,\n",
        "    'dsn': oracledb.makedsn(??????????????, 1521, service_name=\"xe\")\n",
        "}\n",
        "\n",
        "try:\n",
        "    # 데이터베이스 연결\n",
        "    connection = oracledb.connect(**connection_config)\n",
        "    print(\"Connected to the database\")\n",
        "\n",
        "    # 각 테이블 조회\n",
        "    tables = ['CLOTHCATEGORY', 'CLOTHDETAILTABLE', 'CLOTHTABLE', 'USERS']\n",
        "    for table_name in tables:\n",
        "        # 쿼리 실행\n",
        "        with connection.cursor() as cursor:\n",
        "            cursor.execute(f\"SELECT * FROM {table_name}\")\n",
        "            rows = cursor.fetchall()\n",
        "            print(f\"\\n{table_name} Table:\")\n",
        "            for row in rows:\n",
        "                print(row)\n",
        "\n",
        "    # 연결 종료\n",
        "    connection.close()\n",
        "\n",
        "except oracledb.DatabaseError as e:\n",
        "    print(\"Database connection error:\", e)\n"
      ]
    },
    {
      "cell_type": "markdown",
      "metadata": {
        "id": "w0GpNQfdEXTv"
      },
      "source": [
        "\n",
        "#Create예제"
      ]
    },
    {
      "cell_type": "code",
      "execution_count": 3,
      "metadata": {
        "colab": {
          "base_uri": "https://localhost:8080/"
        },
        "id": "t1l9LEA1ETJ_",
        "outputId": "e3f96940-8c70-406c-b441-024d11e55e20"
      },
      "outputs": [
        {
          "name": "stdout",
          "output_type": "stream",
          "text": [
            "Connected to the database\n",
            "New user added.\n",
            "Database connection closed.\n"
          ]
        }
      ],
      "source": [
        "import oracledb\n",
        "\n",
        "# 데이터베이스 연결 정보\n",
        "un = 'c##capstone'\n",
        "pw = 'capstone'\n",
        "cs = 'CapstoneDesign'\n",
        "\n",
        "# 데이터베이스 연결 설정\n",
        "connection_config = {\n",
        "    'user': un,\n",
        "    'password': pw,\n",
        "    'dsn': oracledb.makedsn(\"210.179.203.207\", 1521, service_name=\"xe\")\n",
        "}\n",
        "\n",
        "try:\n",
        "    # 데이터베이스 연결\n",
        "    connection = oracledb.connect(**connection_config)\n",
        "    print(\"Connected to the database\")\n",
        "\n",
        "    # CREATE: 새로운 사용자 추가\n",
        "    with connection.cursor() as cursor:\n",
        "        cursor.execute(\"\"\"\n",
        "            INSERT INTO USERS (userCode, gender, age, userID, userPassword, userName, userEmail, userPhone, userAddress)\n",
        "            VALUES (5, 'Male', 28, 'new_user', 'new_password', 'New User', 'new.user@example.com', '01012345678', 'Daegu, Korea')\n",
        "        \"\"\")\n",
        "        connection.commit()\n",
        "        print(\"New user added.\")\n",
        "\n",
        "except oracledb.DatabaseError as e:\n",
        "    print(\"Database connection error:\", e)\n",
        "\n",
        "finally:\n",
        "    connection.close()\n",
        "    print(\"Database connection closed.\")\n"
      ]
    },
    {
      "cell_type": "markdown",
      "metadata": {
        "id": "0v-FZhQYF4oX"
      },
      "source": []
    },
    {
      "cell_type": "markdown",
      "metadata": {
        "id": "zxoB8q5wEir3"
      },
      "source": [
        "#Read예제"
      ]
    },
    {
      "cell_type": "code",
      "execution_count": 4,
      "metadata": {
        "colab": {
          "base_uri": "https://localhost:8080/"
        },
        "id": "vv61nvkkEuC3",
        "outputId": "68a87917-dcb1-460b-96c5-9b37fe2d93f5"
      },
      "outputs": [
        {
          "name": "stdout",
          "output_type": "stream",
          "text": [
            "Connected to the database\n",
            "USERS Table:\n",
            "(4, 'Male', 20, 'ryon', 'password135', 'ryon', 'ryon@exmaple.com', 1010345673, 'Muan, Korea')\n",
            "(5, 'Male', 28, 'new_user', 'new_password', 'New User', 'new.user@example.com', 1012345678, 'Daegu, Korea')\n",
            "(1, 'Male', 25, 'john_doe', 'password123', 'John Doe', 'john.doe@example.com', 1012345678, 'Seoul, Korea')\n",
            "(2, 'Female', 30, 'jane_doe', 'password456', 'Jane Doe', 'jane.doe@example.com', 1087654321, 'Busan, Korea')\n",
            "(3, 'Male', 35, 'bob_smith', 'password789', 'Bob Smith', 'bob.smith@example.com', 1011223344, 'Incheon, Korea')\n",
            "Database connection closed.\n"
          ]
        }
      ],
      "source": [
        "import oracledb\n",
        "\n",
        "# 데이터베이스 연결 정보\n",
        "un = 'c##capstone'\n",
        "pw = 'capstone'\n",
        "cs = 'CapstoneDesign'\n",
        "\n",
        "# 데이터베이스 연결 설정\n",
        "connection_config = {\n",
        "    'user': un,\n",
        "    'password': pw,\n",
        "    'dsn': oracledb.makedsn(\"210.179.203.207\", 1521, service_name=\"xe\")\n",
        "}\n",
        "\n",
        "try:\n",
        "    # 데이터베이스 연결\n",
        "    connection = oracledb.connect(**connection_config)\n",
        "    print(\"Connected to the database\")\n",
        "\n",
        "    # READ: 모든 사용자 조회\n",
        "    with connection.cursor() as cursor:\n",
        "        cursor.execute(\"SELECT * FROM USERS\")\n",
        "        rows = cursor.fetchall()\n",
        "        print(\"USERS Table:\")\n",
        "        for row in rows:\n",
        "            print(row)\n",
        "\n",
        "except oracledb.DatabaseError as e:\n",
        "    print(\"Database connection error:\", e)\n",
        "\n",
        "finally:\n",
        "    connection.close()\n",
        "    print(\"Database connection closed.\")\n"
      ]
    },
    {
      "cell_type": "markdown",
      "metadata": {
        "id": "eZoixHqzElse"
      },
      "source": [
        "#Update예제"
      ]
    },
    {
      "cell_type": "code",
      "execution_count": 7,
      "metadata": {
        "colab": {
          "base_uri": "https://localhost:8080/"
        },
        "id": "Rf0lMybnFkr3",
        "outputId": "ed8ea15b-2558-44dd-ab9c-e09f3c8c12d3"
      },
      "outputs": [
        {
          "name": "stdout",
          "output_type": "stream",
          "text": [
            "Connected to the database\n",
            "User updated.\n",
            "USERS Table:\n",
            "(4, 'Male', 20, 'ryon', 'password135', 'ryon', 'ryon@exmaple.com', 1010345673, 'Muan, Korea')\n",
            "(5, 'Male', 28, 'new_user', 'new_password', 'UpdateUser', 'updated.user@example.com', 1012345678, 'Daegu, Korea')\n",
            "(1, 'Male', 25, 'john_doe', 'password123', 'John Doe', 'john.doe@example.com', 1012345678, 'Seoul, Korea')\n",
            "(2, 'Female', 30, 'jane_doe', 'password456', 'Jane Doe', 'jane.doe@example.com', 1087654321, 'Busan, Korea')\n",
            "(3, 'Male', 35, 'bob_smith', 'password789', 'Bob Smith', 'bob.smith@example.com', 1011223344, 'Incheon, Korea')\n",
            "Database connection closed.\n"
          ]
        }
      ],
      "source": [
        "import oracledb\n",
        "\n",
        "# 데이터베이스 연결 정보\n",
        "un = 'c##capstone'\n",
        "pw = 'capstone'\n",
        "cs = 'CapstoneDesign'\n",
        "\n",
        "# 데이터베이스 연결 설정\n",
        "connection_config = {\n",
        "    'user': un,\n",
        "    'password': pw,\n",
        "    'dsn': oracledb.makedsn(\"210.179.203.207\", 1521, service_name=\"xe\")\n",
        "}\n",
        "\n",
        "try:\n",
        "    # 데이터베이스 연결\n",
        "    connection = oracledb.connect(**connection_config)\n",
        "    print(\"Connected to the database\")\n",
        "\n",
        "    # UPDATE: 사용자 정보 갱신\n",
        "    with connection.cursor() as cursor:\n",
        "        cursor.execute(\"\"\"\n",
        "            UPDATE USERS\n",
        "            SET userName = 'UpdateUser', userEmail = 'updated.user@example.com'\n",
        "            WHERE userID = 'new_user'\n",
        "        \"\"\")\n",
        "        connection.commit()\n",
        "        print(\"User updated.\")\n",
        "    # READ: 모든 사용자 조회\n",
        "    with connection.cursor() as cursor:\n",
        "        cursor.execute(\"SELECT * FROM USERS\")\n",
        "        rows = cursor.fetchall()\n",
        "        print(\"USERS Table:\")\n",
        "        for row in rows:\n",
        "            print(row)\n",
        "except oracledb.DatabaseError as e:\n",
        "    print(\"Database connection error:\", e)\n",
        "\n",
        "finally:\n",
        "    connection.close()\n",
        "    print(\"Database connection closed.\")\n"
      ]
    },
    {
      "cell_type": "markdown",
      "metadata": {
        "id": "Npd9t8mzEqMW"
      },
      "source": [
        "#Delete예제"
      ]
    },
    {
      "cell_type": "code",
      "execution_count": 9,
      "metadata": {
        "colab": {
          "base_uri": "https://localhost:8080/"
        },
        "id": "AuzV77TtFmmO",
        "outputId": "738b620b-c037-4d70-9476-bb3df9298acc"
      },
      "outputs": [
        {
          "name": "stdout",
          "output_type": "stream",
          "text": [
            "Connected to the database\n",
            "User deleted.\n",
            "USERS Table:\n",
            "(4, 'Male', 20, 'ryon', 'password135', 'ryon', 'ryon@exmaple.com', 1010345673, 'Muan, Korea')\n",
            "(1, 'Male', 25, 'john_doe', 'password123', 'John Doe', 'john.doe@example.com', 1012345678, 'Seoul, Korea')\n",
            "(2, 'Female', 30, 'jane_doe', 'password456', 'Jane Doe', 'jane.doe@example.com', 1087654321, 'Busan, Korea')\n",
            "(3, 'Male', 35, 'bob_smith', 'password789', 'Bob Smith', 'bob.smith@example.com', 1011223344, 'Incheon, Korea')\n",
            "Database connection closed.\n"
          ]
        }
      ],
      "source": [
        "import oracledb\n",
        "\n",
        "# 데이터베이스 연결 정보\n",
        "un = 'c##capstone'\n",
        "pw = 'capstone'\n",
        "cs = 'CapstoneDesign'\n",
        "\n",
        "# 데이터베이스 연결 설정\n",
        "connection_config = {\n",
        "    'user': un,\n",
        "    'password': pw,\n",
        "    'dsn': oracledb.makedsn(\"210.179.203.207\", 1521, service_name=\"xe\")\n",
        "}\n",
        "\n",
        "try:\n",
        "    # 데이터베이스 연결\n",
        "    connection = oracledb.connect(**connection_config)\n",
        "    print(\"Connected to the database\")\n",
        "\n",
        "    # DELETE: 사용자 삭제\n",
        "    with connection.cursor() as cursor:\n",
        "        cursor.execute(\"\"\"\n",
        "            DELETE FROM USERS\n",
        "            WHERE userID = 'new_user'\n",
        "        \"\"\")\n",
        "        connection.commit()\n",
        "        print(\"User deleted.\")\n",
        "    # READ: 모든 사용자 조회\n",
        "    with connection.cursor() as cursor:\n",
        "        cursor.execute(\"SELECT * FROM USERS\")\n",
        "        rows = cursor.fetchall()\n",
        "        print(\"USERS Table:\")\n",
        "        for row in rows:\n",
        "            print(row)\n",
        "except oracledb.DatabaseError as e:\n",
        "    print(\"Database connection error:\", e)\n",
        "\n",
        "finally:\n",
        "    connection.close()\n",
        "    print(\"Database connection closed.\")\n"
      ]
    },
    {
      "cell_type": "code",
      "execution_count": 1,
      "metadata": {},
      "outputs": [
        {
          "name": "stdout",
          "output_type": "stream",
          "text": [
            "c:\\Users\\audgn\\FieTest\n"
          ]
        }
      ],
      "source": [
        "import sys\n",
        "import os\n",
        "\n",
        "# 현재 디렉토리 확인\n",
        "print(os.getcwd())\n",
        "\n",
        "# 필요한 경우 경로 추가\n",
        "sys.path.append(os.getcwd())"
      ]
    },
    {
      "cell_type": "code",
      "execution_count": 2,
      "metadata": {},
      "outputs": [],
      "source": [
        "import qrtest1\n",
        "\n",
        "# QR 코드를 인식하고 데이터를 반환받는 함수 호출\n",
        "qr_data = qrtest1.detect_qr_code_from_camera(timeout=5)\n",
        "\n"
      ]
    },
    {
      "cell_type": "code",
      "execution_count": 3,
      "metadata": {},
      "outputs": [
        {
          "name": "stdout",
          "output_type": "stream",
          "text": [
            "['id=user1234&pw=12345678']\n"
          ]
        }
      ],
      "source": [
        "print(qr_data)"
      ]
    },
    {
      "cell_type": "code",
      "execution_count": 63,
      "metadata": {},
      "outputs": [
        {
          "name": "stdout",
          "output_type": "stream",
          "text": [
            "['id=ryon&pw=password135']\n"
          ]
        }
      ],
      "source": [
        "qr_data1 = ['id=ryon&pw=password135']\n",
        "print(qr_data1)"
      ]
    },
    {
      "cell_type": "code",
      "execution_count": 64,
      "metadata": {},
      "outputs": [],
      "source": [
        "def parse_qr_data(qr_data):\n",
        "    # QR 코드 데이터가 리스트로 들어온다고 가정\n",
        "    if qr_data and len(qr_data) > 0:\n",
        "        data = qr_data[0]\n",
        "        # 데이터 형식: 'id=user1234&pw=12345678'\n",
        "        params = data.split('&')\n",
        "        user_data = {}\n",
        "        for param in params:\n",
        "            key, value = param.split('=')\n",
        "            user_data[key] = value\n",
        "            #user_data[key] = '\\''+value+'\\''\n",
        "        return user_data\n",
        "    return None"
      ]
    },
    {
      "cell_type": "code",
      "execution_count": 65,
      "metadata": {},
      "outputs": [
        {
          "name": "stdout",
          "output_type": "stream",
          "text": [
            "{'id': 'ryon', 'pw': 'password135'}\n"
          ]
        }
      ],
      "source": [
        "idps = parse_qr_data(qr_data1)\n",
        "print(idps)"
      ]
    },
    {
      "cell_type": "code",
      "execution_count": 66,
      "metadata": {},
      "outputs": [
        {
          "name": "stdout",
          "output_type": "stream",
          "text": [
            "ryon\n"
          ]
        }
      ],
      "source": [
        "a = idps['id']\n",
        "print(a)"
      ]
    },
    {
      "cell_type": "code",
      "execution_count": 10,
      "metadata": {},
      "outputs": [
        {
          "name": "stdout",
          "output_type": "stream",
          "text": [
            "'password135'\n"
          ]
        }
      ],
      "source": [
        "b = idps['pw']\n",
        "print(b)"
      ]
    },
    {
      "cell_type": "code",
      "execution_count": 67,
      "metadata": {},
      "outputs": [
        {
          "name": "stdout",
          "output_type": "stream",
          "text": [
            "Connected to the database\n",
            "USERS Table:\n",
            "(4, 'Male', 20, 'ryon', 'password135', 'ryon', 'ryon@exmaple.com', 1010345673, 'Muan, Korea')\n",
            "Database connection closed.\n"
          ]
        }
      ],
      "source": [
        "import oracledb\n",
        "\n",
        "# 데이터베이스 연결 정보\n",
        "un = 'c##capstone'\n",
        "pw = 'capstone'\n",
        "cs = 'CapstoneDesign'\n",
        "\n",
        "# 데이터베이스 연결 설정\n",
        "connection_config = {\n",
        "    'user': un,\n",
        "    'password': pw,\n",
        "    'dsn': oracledb.makedsn(\"210.179.203.207\", 1521, service_name=\"xe\")\n",
        "}\n",
        "\n",
        "try:\n",
        "    # 데이터베이스 연결\n",
        "    connection = oracledb.connect(**connection_config)\n",
        "    \n",
        "    print(\"Connected to the database\")\n",
        "\n",
        "    # READ: 모든 사용자 조회\n",
        "    with connection.cursor() as cursor:\n",
        "        #query = \"SELECT * FROM USERS WHERE USERID = \"+a +\"AND USERPASSWORD=\"+b     \n",
        "        #query = \"SELECT * FROM USERS WHERE USERID=? AND USERPASSWORD=?\"\n",
        "        query = \"SELECT * FROM USERS WHERE USERID=:id AND USERPASSWORD=:pw\"\n",
        "        #? 플레이스홀더를 사용하는 경우와 :param 형식의 네임드 플레이스홀더를 사용하는 경우로 나뉨\n",
        "        cursor.execute(query, idps)\n",
        "        rows = cursor.fetchall()\n",
        "        print(\"USERS Table:\")\n",
        "        for row in rows:\n",
        "            print(row)\n",
        "\n",
        "except oracledb.DatabaseError as e:\n",
        "    print(\"Database connection error:\", e)\n",
        "\n",
        "finally:\n",
        "    connection.close()\n",
        "    print(\"Database connection closed.\")\n"
      ]
    },
    {
      "cell_type": "code",
      "execution_count": 24,
      "metadata": {},
      "outputs": [
        {
          "name": "stdout",
          "output_type": "stream",
          "text": [
            "Connected to the database\n",
            "USERS Table:\n",
            "(4, 'Male', 20, 'ryon', 'password135', 'ryon', 'ryon@exmaple.com', 1010345673, 'Muan, Korea')\n",
            "(1, 'Male', 25, 'john_doe', 'password123', 'John Doe', 'john.doe@example.com', 1012345678, 'Seoul, Korea')\n",
            "(2, 'Female', 30, 'jane_doe', 'password456', 'Jane Doe', 'jane.doe@example.com', 1087654321, 'Busan, Korea')\n",
            "(3, 'Male', 35, 'bob_smith', 'password789', 'Bob Smith', 'bob.smith@example.com', 1011223344, 'Incheon, Korea')\n",
            "\n",
            "USERS Table Columns:\n",
            "Column: USERCODE, Type: NUMBER, Length: 22, Nullable: N\n",
            "Column: GENDER, Type: VARCHAR2, Length: 10, Nullable: N\n",
            "Column: AGE, Type: NUMBER, Length: 22, Nullable: N\n",
            "Column: USERID, Type: VARCHAR2, Length: 10, Nullable: N\n",
            "Column: USERPASSWORD, Type: VARCHAR2, Length: 20, Nullable: N\n",
            "Column: USERNAME, Type: VARCHAR2, Length: 10, Nullable: N\n",
            "Column: USEREMAIL, Type: VARCHAR2, Length: 30, Nullable: N\n",
            "Column: USERPHONE, Type: NUMBER, Length: 22, Nullable: N\n",
            "Column: USERADDRESS, Type: VARCHAR2, Length: 50, Nullable: N\n",
            "\n",
            "USERS Table Physical Structure:\n",
            "Table: USERS, Tablespace: USERS, Rows: 4, Blocks: 5, Avg Row Length: 80\n",
            "Database connection closed.\n"
          ]
        }
      ],
      "source": [
        "import oracledb\n",
        "\n",
        "# 데이터베이스 연결 정보\n",
        "un = 'c##capstone'\n",
        "pw = 'capstone'\n",
        "cs = 'CapstoneDesign'\n",
        "\n",
        "# 데이터베이스 연결 설정\n",
        "connection_config = {\n",
        "    'user': un,\n",
        "    'password': pw,\n",
        "    'dsn': oracledb.makedsn(\"210.179.203.207\", 1521, service_name=\"xe\")\n",
        "}\n",
        "\n",
        "try:\n",
        "    # 데이터베이스 연결\n",
        "    connection = oracledb.connect(**connection_config)\n",
        "    print(\"Connected to the database\")\n",
        "\n",
        "    # DELETE: 사용자 삭제\n",
        "    '''with connection.cursor() as cursor:\n",
        "        cursor.execute(\"\"\"\n",
        "            DELETE FROM USERS\n",
        "            WHERE userID = 'new_user'\n",
        "        \"\"\")\n",
        "        connection.commit()\n",
        "        print(\"User deleted.\")'''\n",
        "\n",
        "    # READ: 모든 사용자 조회\n",
        "    with connection.cursor() as cursor:\n",
        "        cursor.execute(\"SELECT * FROM USERS\")\n",
        "        rows = cursor.fetchall()\n",
        "        print(\"USERS Table:\")\n",
        "        for row in rows:\n",
        "            print(row)\n",
        "\n",
        "    # 컬럼 정보 조회\n",
        "    with connection.cursor() as cursor:\n",
        "        cursor.execute(\"\"\"\n",
        "            SELECT column_name, data_type, data_length, nullable\n",
        "            FROM ALL_TAB_COLUMNS\n",
        "            WHERE table_name = 'USERS'\n",
        "            AND owner = :owner\n",
        "        \"\"\", [un.upper()])\n",
        "        columns = cursor.fetchall()\n",
        "        print(\"\\nUSERS Table Columns:\")\n",
        "        for column in columns:\n",
        "            print(f\"Column: {column[0]}, Type: {column[1]}, Length: {column[2]}, Nullable: {column[3]}\")\n",
        "\n",
        "    # 테이블의 물리적 구조 조회\n",
        "    with connection.cursor() as cursor:\n",
        "        cursor.execute(\"\"\"\n",
        "            SELECT table_name, tablespace_name, num_rows, blocks, avg_row_len\n",
        "            FROM DBA_TABLES\n",
        "            WHERE table_name = 'USERS'\n",
        "            AND owner = :owner\n",
        "        \"\"\", [un.upper()])\n",
        "        tables = cursor.fetchall()\n",
        "        print(\"\\nUSERS Table Physical Structure:\")\n",
        "        for table in tables:\n",
        "            print(f\"Table: {table[0]}, Tablespace: {table[1]}, Rows: {table[2]}, Blocks: {table[3]}, Avg Row Length: {table[4]}\")\n",
        "\n",
        "except oracledb.DatabaseError as e:\n",
        "    print(\"Database connection error:\", e)\n",
        "\n",
        "finally:\n",
        "    connection.close()\n",
        "    print(\"Database connection closed.\")\n"
      ]
    },
    {
      "cell_type": "code",
      "execution_count": null,
      "metadata": {},
      "outputs": [],
      "source": []
    }
  ],
  "metadata": {
    "colab": {
      "provenance": []
    },
    "kernelspec": {
      "display_name": "Python 3",
      "name": "python3"
    },
    "language_info": {
      "codemirror_mode": {
        "name": "ipython",
        "version": 3
      },
      "file_extension": ".py",
      "mimetype": "text/x-python",
      "name": "python",
      "nbconvert_exporter": "python",
      "pygments_lexer": "ipython3",
      "version": "3.8.18"
    }
  },
  "nbformat": 4,
  "nbformat_minor": 0
}
